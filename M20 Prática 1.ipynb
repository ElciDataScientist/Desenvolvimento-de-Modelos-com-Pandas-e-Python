{
  "nbformat": 4,
  "nbformat_minor": 0,
  "metadata": {
    "colab": {
      "provenance": []
    },
    "kernelspec": {
      "name": "python3",
      "display_name": "Python 3"
    },
    "language_info": {
      "name": "python"
    }
  },
  "cells": [
    {
      "cell_type": "markdown",
      "source": [
        "A fórmula de Bhaskara é dada por:\n",
        "\n",
        "$$\n",
        "x = \\frac{-b \\pm \\sqrt{b^2 - 4ac}}{2a}\n",
        "$$\n",
        "\n",
        "A fórmula do discriminante é:\n",
        "\n",
        "$$\n",
        "\\Delta = b^2 - 4ac\n",
        "$$\n",
        "\n",
        "- Se o delta for maior que zero, a equação terá dois valores reais e distintos.\n",
        "- Se o delta for igual a zero, a equação terá somente um valor real ou dois resultados iguais.\n",
        "- Se o delta for menor que zero, a equação não possuirá valores reais."
      ],
      "metadata": {
        "id": "YYGggknkzEGY"
      }
    }
  ]
}