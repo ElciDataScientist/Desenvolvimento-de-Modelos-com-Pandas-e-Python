{
  "nbformat": 4,
  "nbformat_minor": 0,
  "metadata": {
    "colab": {
      "provenance": []
    },
    "kernelspec": {
      "name": "python3",
      "display_name": "Python 3"
    },
    "language_info": {
      "name": "python"
    }
  },
  "cells": [
    {
      "cell_type": "code",
      "source": [
        "pip install streamlit"
      ],
      "metadata": {
        "colab": {
          "base_uri": "https://localhost:8080/"
        },
        "id": "TLpMdb9M9lIC",
        "outputId": "32a8d350-e420-4e86-ecd1-10c49d9b91a6"
      },
      "execution_count": 2,
      "outputs": [
        {
          "output_type": "stream",
          "name": "stdout",
          "text": [
            "Collecting streamlit\n",
            "  Downloading streamlit-1.39.0-py2.py3-none-any.whl.metadata (8.5 kB)\n",
            "Requirement already satisfied: altair<6,>=4.0 in /usr/local/lib/python3.10/dist-packages (from streamlit) (4.2.2)\n",
            "Requirement already satisfied: blinker<2,>=1.0.0 in /usr/lib/python3/dist-packages (from streamlit) (1.4)\n",
            "Requirement already satisfied: cachetools<6,>=4.0 in /usr/local/lib/python3.10/dist-packages (from streamlit) (5.5.0)\n",
            "Requirement already satisfied: click<9,>=7.0 in /usr/local/lib/python3.10/dist-packages (from streamlit) (8.1.7)\n",
            "Requirement already satisfied: numpy<3,>=1.20 in /usr/local/lib/python3.10/dist-packages (from streamlit) (1.26.4)\n",
            "Requirement already satisfied: packaging<25,>=20 in /usr/local/lib/python3.10/dist-packages (from streamlit) (24.1)\n",
            "Requirement already satisfied: pandas<3,>=1.4.0 in /usr/local/lib/python3.10/dist-packages (from streamlit) (2.2.2)\n",
            "Requirement already satisfied: pillow<11,>=7.1.0 in /usr/local/lib/python3.10/dist-packages (from streamlit) (10.4.0)\n",
            "Requirement already satisfied: protobuf<6,>=3.20 in /usr/local/lib/python3.10/dist-packages (from streamlit) (3.20.3)\n",
            "Requirement already satisfied: pyarrow>=7.0 in /usr/local/lib/python3.10/dist-packages (from streamlit) (16.1.0)\n",
            "Requirement already satisfied: requests<3,>=2.27 in /usr/local/lib/python3.10/dist-packages (from streamlit) (2.32.3)\n",
            "Requirement already satisfied: rich<14,>=10.14.0 in /usr/local/lib/python3.10/dist-packages (from streamlit) (13.9.2)\n",
            "Requirement already satisfied: tenacity<10,>=8.1.0 in /usr/local/lib/python3.10/dist-packages (from streamlit) (9.0.0)\n",
            "Requirement already satisfied: toml<2,>=0.10.1 in /usr/local/lib/python3.10/dist-packages (from streamlit) (0.10.2)\n",
            "Requirement already satisfied: typing-extensions<5,>=4.3.0 in /usr/local/lib/python3.10/dist-packages (from streamlit) (4.12.2)\n",
            "Collecting gitpython!=3.1.19,<4,>=3.0.7 (from streamlit)\n",
            "  Downloading GitPython-3.1.43-py3-none-any.whl.metadata (13 kB)\n",
            "Collecting pydeck<1,>=0.8.0b4 (from streamlit)\n",
            "  Downloading pydeck-0.9.1-py2.py3-none-any.whl.metadata (4.1 kB)\n",
            "Requirement already satisfied: tornado<7,>=6.0.3 in /usr/local/lib/python3.10/dist-packages (from streamlit) (6.3.3)\n",
            "Collecting watchdog<6,>=2.1.5 (from streamlit)\n",
            "  Downloading watchdog-5.0.3-py3-none-manylinux2014_x86_64.whl.metadata (41 kB)\n",
            "\u001b[2K     \u001b[90m━━━━━━━━━━━━━━━━━━━━━━━━━━━━━━━━━━━━━━━━\u001b[0m \u001b[32m41.9/41.9 kB\u001b[0m \u001b[31m2.1 MB/s\u001b[0m eta \u001b[36m0:00:00\u001b[0m\n",
            "\u001b[?25hRequirement already satisfied: entrypoints in /usr/local/lib/python3.10/dist-packages (from altair<6,>=4.0->streamlit) (0.4)\n",
            "Requirement already satisfied: jinja2 in /usr/local/lib/python3.10/dist-packages (from altair<6,>=4.0->streamlit) (3.1.4)\n",
            "Requirement already satisfied: jsonschema>=3.0 in /usr/local/lib/python3.10/dist-packages (from altair<6,>=4.0->streamlit) (4.23.0)\n",
            "Requirement already satisfied: toolz in /usr/local/lib/python3.10/dist-packages (from altair<6,>=4.0->streamlit) (0.12.1)\n",
            "Collecting gitdb<5,>=4.0.1 (from gitpython!=3.1.19,<4,>=3.0.7->streamlit)\n",
            "  Downloading gitdb-4.0.11-py3-none-any.whl.metadata (1.2 kB)\n",
            "Requirement already satisfied: python-dateutil>=2.8.2 in /usr/local/lib/python3.10/dist-packages (from pandas<3,>=1.4.0->streamlit) (2.8.2)\n",
            "Requirement already satisfied: pytz>=2020.1 in /usr/local/lib/python3.10/dist-packages (from pandas<3,>=1.4.0->streamlit) (2024.2)\n",
            "Requirement already satisfied: tzdata>=2022.7 in /usr/local/lib/python3.10/dist-packages (from pandas<3,>=1.4.0->streamlit) (2024.2)\n",
            "Requirement already satisfied: charset-normalizer<4,>=2 in /usr/local/lib/python3.10/dist-packages (from requests<3,>=2.27->streamlit) (3.3.2)\n",
            "Requirement already satisfied: idna<4,>=2.5 in /usr/local/lib/python3.10/dist-packages (from requests<3,>=2.27->streamlit) (3.10)\n",
            "Requirement already satisfied: urllib3<3,>=1.21.1 in /usr/local/lib/python3.10/dist-packages (from requests<3,>=2.27->streamlit) (2.2.3)\n",
            "Requirement already satisfied: certifi>=2017.4.17 in /usr/local/lib/python3.10/dist-packages (from requests<3,>=2.27->streamlit) (2024.8.30)\n",
            "Requirement already satisfied: markdown-it-py>=2.2.0 in /usr/local/lib/python3.10/dist-packages (from rich<14,>=10.14.0->streamlit) (3.0.0)\n",
            "Requirement already satisfied: pygments<3.0.0,>=2.13.0 in /usr/local/lib/python3.10/dist-packages (from rich<14,>=10.14.0->streamlit) (2.18.0)\n",
            "Collecting smmap<6,>=3.0.1 (from gitdb<5,>=4.0.1->gitpython!=3.1.19,<4,>=3.0.7->streamlit)\n",
            "  Downloading smmap-5.0.1-py3-none-any.whl.metadata (4.3 kB)\n",
            "Requirement already satisfied: MarkupSafe>=2.0 in /usr/local/lib/python3.10/dist-packages (from jinja2->altair<6,>=4.0->streamlit) (2.1.5)\n",
            "Requirement already satisfied: attrs>=22.2.0 in /usr/local/lib/python3.10/dist-packages (from jsonschema>=3.0->altair<6,>=4.0->streamlit) (24.2.0)\n",
            "Requirement already satisfied: jsonschema-specifications>=2023.03.6 in /usr/local/lib/python3.10/dist-packages (from jsonschema>=3.0->altair<6,>=4.0->streamlit) (2023.12.1)\n",
            "Requirement already satisfied: referencing>=0.28.4 in /usr/local/lib/python3.10/dist-packages (from jsonschema>=3.0->altair<6,>=4.0->streamlit) (0.35.1)\n",
            "Requirement already satisfied: rpds-py>=0.7.1 in /usr/local/lib/python3.10/dist-packages (from jsonschema>=3.0->altair<6,>=4.0->streamlit) (0.20.0)\n",
            "Requirement already satisfied: mdurl~=0.1 in /usr/local/lib/python3.10/dist-packages (from markdown-it-py>=2.2.0->rich<14,>=10.14.0->streamlit) (0.1.2)\n",
            "Requirement already satisfied: six>=1.5 in /usr/local/lib/python3.10/dist-packages (from python-dateutil>=2.8.2->pandas<3,>=1.4.0->streamlit) (1.16.0)\n",
            "Downloading streamlit-1.39.0-py2.py3-none-any.whl (8.7 MB)\n",
            "\u001b[2K   \u001b[90m━━━━━━━━━━━━━━━━━━━━━━━━━━━━━━━━━━━━━━━━\u001b[0m \u001b[32m8.7/8.7 MB\u001b[0m \u001b[31m40.3 MB/s\u001b[0m eta \u001b[36m0:00:00\u001b[0m\n",
            "\u001b[?25hDownloading GitPython-3.1.43-py3-none-any.whl (207 kB)\n",
            "\u001b[2K   \u001b[90m━━━━━━━━━━━━━━━━━━━━━━━━━━━━━━━━━━━━━━━━\u001b[0m \u001b[32m207.3/207.3 kB\u001b[0m \u001b[31m12.7 MB/s\u001b[0m eta \u001b[36m0:00:00\u001b[0m\n",
            "\u001b[?25hDownloading pydeck-0.9.1-py2.py3-none-any.whl (6.9 MB)\n",
            "\u001b[2K   \u001b[90m━━━━━━━━━━━━━━━━━━━━━━━━━━━━━━━━━━━━━━━━\u001b[0m \u001b[32m6.9/6.9 MB\u001b[0m \u001b[31m54.1 MB/s\u001b[0m eta \u001b[36m0:00:00\u001b[0m\n",
            "\u001b[?25hDownloading watchdog-5.0.3-py3-none-manylinux2014_x86_64.whl (79 kB)\n",
            "\u001b[2K   \u001b[90m━━━━━━━━━━━━━━━━━━━━━━━━━━━━━━━━━━━━━━━━\u001b[0m \u001b[32m79.3/79.3 kB\u001b[0m \u001b[31m5.5 MB/s\u001b[0m eta \u001b[36m0:00:00\u001b[0m\n",
            "\u001b[?25hDownloading gitdb-4.0.11-py3-none-any.whl (62 kB)\n",
            "\u001b[2K   \u001b[90m━━━━━━━━━━━━━━━━━━━━━━━━━━━━━━━━━━━━━━━━\u001b[0m \u001b[32m62.7/62.7 kB\u001b[0m \u001b[31m4.3 MB/s\u001b[0m eta \u001b[36m0:00:00\u001b[0m\n",
            "\u001b[?25hDownloading smmap-5.0.1-py3-none-any.whl (24 kB)\n",
            "Installing collected packages: watchdog, smmap, pydeck, gitdb, gitpython, streamlit\n",
            "Successfully installed gitdb-4.0.11 gitpython-3.1.43 pydeck-0.9.1 smmap-5.0.1 streamlit-1.39.0 watchdog-5.0.3\n"
          ]
        }
      ]
    },
    {
      "cell_type": "code",
      "execution_count": 3,
      "metadata": {
        "id": "0sGD2YA2a5Ku"
      },
      "outputs": [],
      "source": [
        "import pandas as pd\n",
        "import seaborn as sns\n",
        "import matplotlib.pyplot as plt\n",
        "import streamlit as st\n",
        "import numpy as np\n",
        "import io"
      ]
    },
    {
      "cell_type": "code",
      "source": [
        "# Carregar os dados\n",
        "@st.cache_data\n",
        "def load_data():\n",
        "    return pd.read_csv(\"/content/bank-additional-full.csv\", delimiter=';')\n",
        "\n",
        "bank_raw = load_data()"
      ],
      "metadata": {
        "colab": {
          "base_uri": "https://localhost:8080/"
        },
        "id": "gH3ilqHxd6lq",
        "outputId": "79313c17-bc4c-4d18-97a8-f6619b017d1a"
      },
      "execution_count": 4,
      "outputs": [
        {
          "output_type": "stream",
          "name": "stderr",
          "text": [
            "2024-10-13 22:20:04.198 WARNING streamlit.runtime.caching.cache_data_api: No runtime found, using MemoryCacheStorageManager\n",
            "2024-10-13 22:20:04.201 WARNING streamlit.runtime.scriptrunner_utils.script_run_context: Thread 'MainThread': missing ScriptRunContext! This warning can be ignored when running in bare mode.\n",
            "2024-10-13 22:20:04.302 \n",
            "  \u001b[33m\u001b[1mWarning:\u001b[0m to view this Streamlit app on a browser, run it with the following\n",
            "  command:\n",
            "\n",
            "    streamlit run /usr/local/lib/python3.10/dist-packages/colab_kernel_launcher.py [ARGUMENTS]\n",
            "2024-10-13 22:20:04.304 Thread 'MainThread': missing ScriptRunContext! This warning can be ignored when running in bare mode.\n",
            "2024-10-13 22:20:04.308 Thread 'MainThread': missing ScriptRunContext! This warning can be ignored when running in bare mode.\n",
            "2024-10-13 22:20:04.311 No runtime found, using MemoryCacheStorageManager\n",
            "2024-10-13 22:20:04.497 Thread 'MainThread': missing ScriptRunContext! This warning can be ignored when running in bare mode.\n",
            "2024-10-13 22:20:04.498 Thread 'MainThread': missing ScriptRunContext! This warning can be ignored when running in bare mode.\n"
          ]
        }
      ]
    },
    {
      "cell_type": "code",
      "source": [
        "# Configuração da página\n",
        "st.set_page_config(page_title=\"Análise Bancária\", layout=\"wide\")"
      ],
      "metadata": {
        "colab": {
          "base_uri": "https://localhost:8080/"
        },
        "id": "fkzxb-NmbrVU",
        "outputId": "771ffc58-6ba6-490b-a3bf-e4c5846dcec7"
      },
      "execution_count": 5,
      "outputs": [
        {
          "output_type": "stream",
          "name": "stderr",
          "text": [
            "2024-10-13 22:20:07.053 Thread 'MainThread': missing ScriptRunContext! This warning can be ignored when running in bare mode.\n"
          ]
        }
      ]
    },
    {
      "cell_type": "code",
      "source": [
        "# Layout principal\n",
        "col1, col2 = st.columns([1, 3])"
      ],
      "metadata": {
        "colab": {
          "base_uri": "https://localhost:8080/"
        },
        "id": "OfTnbVYLcgVt",
        "outputId": "d6693fd4-6a11-47b7-9736-5109a15b7f2f"
      },
      "execution_count": 6,
      "outputs": [
        {
          "output_type": "stream",
          "name": "stderr",
          "text": [
            "2024-10-13 22:20:09.290 Thread 'MainThread': missing ScriptRunContext! This warning can be ignored when running in bare mode.\n",
            "2024-10-13 22:20:09.292 Thread 'MainThread': missing ScriptRunContext! This warning can be ignored when running in bare mode.\n",
            "2024-10-13 22:20:09.294 Thread 'MainThread': missing ScriptRunContext! This warning can be ignored when running in bare mode.\n"
          ]
        }
      ]
    },
    {
      "cell_type": "code",
      "source": [
        "# Coluna de filtros\n",
        "with col1:\n",
        "    st.image(\"/content/Bank-Branding.jpg\", use_column_width=True)\n",
        "\n",
        "    # Exemplo de slider para filtrar por idade\n",
        "    age_range = st.slider(\"Faixa etária\",\n",
        "                          min_value=int(bank_raw['age'].min()),\n",
        "                          max_value=int(bank_raw['age'].max()),\n",
        "                          value=(int(bank_raw['age'].min()), int(bank_raw['age'].max())))\n"
      ],
      "metadata": {
        "colab": {
          "base_uri": "https://localhost:8080/"
        },
        "id": "5JQ6fKVHcpRp",
        "outputId": "a1122663-cf07-4922-ffec-e89d613e98a3"
      },
      "execution_count": 7,
      "outputs": [
        {
          "output_type": "stream",
          "name": "stderr",
          "text": [
            "2024-10-13 22:20:23.290 Thread 'MainThread': missing ScriptRunContext! This warning can be ignored when running in bare mode.\n",
            "2024-10-13 22:20:23.339 Thread 'MainThread': missing ScriptRunContext! This warning can be ignored when running in bare mode.\n",
            "2024-10-13 22:20:23.341 Thread 'MainThread': missing ScriptRunContext! This warning can be ignored when running in bare mode.\n",
            "2024-10-13 22:20:23.350 Thread 'MainThread': missing ScriptRunContext! This warning can be ignored when running in bare mode.\n",
            "2024-10-13 22:20:23.352 Thread 'MainThread': missing ScriptRunContext! This warning can be ignored when running in bare mode.\n",
            "2024-10-13 22:20:23.356 Thread 'MainThread': missing ScriptRunContext! This warning can be ignored when running in bare mode.\n",
            "2024-10-13 22:20:23.357 Thread 'MainThread': missing ScriptRunContext! This warning can be ignored when running in bare mode.\n",
            "2024-10-13 22:20:23.364 Thread 'MainThread': missing ScriptRunContext! This warning can be ignored when running in bare mode.\n"
          ]
        }
      ]
    },
    {
      "cell_type": "code",
      "source": [
        "# Coluna do gráfico\n",
        "with col2:\n",
        "    # Filtrar os dados\n",
        "    filtered_data = bank_raw[(bank_raw['age'] >= age_range[0]) & (bank_raw['age'] <= age_range[1])]\n",
        "\n",
        "    # Criar o gráfico\n",
        "    fig, ax = plt.subplots()\n",
        "    sns.histplot(data=filtered_data, x='age', kde=True, ax=ax)\n",
        "    ax.set_title(\"Distribuição de Idade\")\n",
        "\n",
        "    # Exibir o gráfico\n",
        "    st.pyplot(fig)\n",
        "\n",
        "# Exibir os dados filtrados\n",
        "st.dataframe(filtered_data)"
      ],
      "metadata": {
        "colab": {
          "base_uri": "https://localhost:8080/",
          "height": 576
        },
        "id": "-VNLfmj5cwS0",
        "outputId": "67e3fa15-3d99-4cf6-c503-4ff92d78d5d5"
      },
      "execution_count": 8,
      "outputs": [
        {
          "output_type": "stream",
          "name": "stderr",
          "text": [
            "2024-10-13 22:20:25.904 Thread 'MainThread': missing ScriptRunContext! This warning can be ignored when running in bare mode.\n",
            "2024-10-13 22:20:26.397 Thread 'MainThread': missing ScriptRunContext! This warning can be ignored when running in bare mode.\n",
            "2024-10-13 22:20:26.399 Thread 'MainThread': missing ScriptRunContext! This warning can be ignored when running in bare mode.\n",
            "2024-10-13 22:20:26.507 Thread 'MainThread': missing ScriptRunContext! This warning can be ignored when running in bare mode.\n",
            "2024-10-13 22:20:26.510 Thread 'MainThread': missing ScriptRunContext! This warning can be ignored when running in bare mode.\n"
          ]
        },
        {
          "output_type": "execute_result",
          "data": {
            "text/plain": [
              "DeltaGenerator()"
            ]
          },
          "metadata": {},
          "execution_count": 8
        },
        {
          "output_type": "display_data",
          "data": {
            "text/plain": [
              "<Figure size 640x480 with 1 Axes>"
            ],
            "image/png": "[encoded data removed]"
          },
          "metadata": {}
        }
      ]
    },
    {
      "cell_type": "code",
      "source": [
        "# Colunas de filtros\n",
        "col1, col2 = st.columns(2)\n",
        "\n",
        "with col1:\n",
        "    # Slider para faixa etária\n",
        "    age_range = st.slider(\"Faixa etária\",\n",
        "                          min_value=int(bank_raw['age'].min()),\n",
        "                          max_value=int(bank_raw['age'].max()),\n",
        "                          value=(int(bank_raw['age'].min()), int(bank_raw['age'].max())))\n",
        "\n",
        "    # Multiselect para tipo de trabalho\n",
        "    job_options = ['all'] + list(bank_raw['job'].unique())\n",
        "    selected_jobs = st.multiselect(\"Tipo de trabalho\", options=job_options, default=['all'])\n",
        "\n",
        "with col2:\n",
        "    # Multiselect para estado civil\n",
        "    marital_options = ['all'] + list(bank_raw['marital'].unique())\n",
        "    selected_marital = st.multiselect(\"Estado civil\", options=marital_options, default=['all'])\n",
        "\n",
        "    # Multiselect para nível de educação\n",
        "    education_options = ['all'] + list(bank_raw['education'].unique())\n",
        "    selected_education = st.multiselect(\"Nível de educação\", options=education_options, default=['all'])"
      ],
      "metadata": {
        "colab": {
          "base_uri": "https://localhost:8080/"
        },
        "id": "hccnn2Vne6Du",
        "outputId": "e2aafc07-28e5-499d-8052-331482023368"
      },
      "execution_count": 9,
      "outputs": [
        {
          "output_type": "stream",
          "name": "stderr",
          "text": [
            "2024-10-13 22:20:29.304 Thread 'MainThread': missing ScriptRunContext! This warning can be ignored when running in bare mode.\n",
            "2024-10-13 22:20:29.308 Thread 'MainThread': missing ScriptRunContext! This warning can be ignored when running in bare mode.\n",
            "2024-10-13 22:20:29.310 Thread 'MainThread': missing ScriptRunContext! This warning can be ignored when running in bare mode.\n",
            "2024-10-13 22:20:29.314 Thread 'MainThread': missing ScriptRunContext! This warning can be ignored when running in bare mode.\n",
            "2024-10-13 22:20:29.317 Thread 'MainThread': missing ScriptRunContext! This warning can be ignored when running in bare mode.\n",
            "2024-10-13 22:20:29.319 Thread 'MainThread': missing ScriptRunContext! This warning can be ignored when running in bare mode.\n",
            "2024-10-13 22:20:29.321 Thread 'MainThread': missing ScriptRunContext! This warning can be ignored when running in bare mode.\n",
            "2024-10-13 22:20:29.323 Thread 'MainThread': missing ScriptRunContext! This warning can be ignored when running in bare mode.\n",
            "2024-10-13 22:20:29.329 Thread 'MainThread': missing ScriptRunContext! This warning can be ignored when running in bare mode.\n",
            "2024-10-13 22:20:29.337 Thread 'MainThread': missing ScriptRunContext! This warning can be ignored when running in bare mode.\n",
            "2024-10-13 22:20:29.338 Thread 'MainThread': missing ScriptRunContext! This warning can be ignored when running in bare mode.\n",
            "2024-10-13 22:20:29.340 Thread 'MainThread': missing ScriptRunContext! This warning can be ignored when running in bare mode.\n",
            "2024-10-13 22:20:29.341 Thread 'MainThread': missing ScriptRunContext! This warning can be ignored when running in bare mode.\n",
            "2024-10-13 22:20:29.346 Thread 'MainThread': missing ScriptRunContext! This warning can be ignored when running in bare mode.\n",
            "2024-10-13 22:20:29.351 Thread 'MainThread': missing ScriptRunContext! This warning can be ignored when running in bare mode.\n",
            "2024-10-13 22:20:29.353 Thread 'MainThread': missing ScriptRunContext! This warning can be ignored when running in bare mode.\n",
            "2024-10-13 22:20:29.354 Thread 'MainThread': missing ScriptRunContext! This warning can be ignored when running in bare mode.\n",
            "2024-10-13 22:20:29.355 Thread 'MainThread': missing ScriptRunContext! This warning can be ignored when running in bare mode.\n",
            "2024-10-13 22:20:29.360 Thread 'MainThread': missing ScriptRunContext! This warning can be ignored when running in bare mode.\n",
            "2024-10-13 22:20:29.363 Thread 'MainThread': missing ScriptRunContext! This warning can be ignored when running in bare mode.\n",
            "2024-10-13 22:20:29.365 Thread 'MainThread': missing ScriptRunContext! This warning can be ignored when running in bare mode.\n",
            "2024-10-13 22:20:29.366 Thread 'MainThread': missing ScriptRunContext! This warning can be ignored when running in bare mode.\n",
            "2024-10-13 22:20:29.369 Thread 'MainThread': missing ScriptRunContext! This warning can be ignored when running in bare mode.\n"
          ]
        }
      ]
    },
    {
      "cell_type": "code",
      "source": [
        "# Filtrar os dados\n",
        "filtered_data = bank_raw[(bank_raw['age'] >= age_range[0]) & (bank_raw['age'] <= age_range[1])]\n",
        "\n",
        "if 'all' not in selected_jobs:\n",
        "    filtered_data = filtered_data[filtered_data['job'].isin(selected_jobs)]\n",
        "if 'all' not in selected_marital:\n",
        "    filtered_data = filtered_data[filtered_data['marital'].isin(selected_marital)]\n",
        "if 'all' not in selected_education:\n",
        "    filtered_data = filtered_data[filtered_data['education'].isin(selected_education)]"
      ],
      "metadata": {
        "id": "A_4PJ429e7Qj"
      },
      "execution_count": 10,
      "outputs": []
    },
    {
      "cell_type": "code",
      "source": [
        "# Criar e exibir o gráfico\n",
        "fig, ax = plt.subplots(figsize=(10, 6))\n",
        "sns.histplot(data=filtered_data, x='age', kde=True, ax=ax)\n",
        "ax.set_title(\"Distribuição de Idade\")\n",
        "st.pyplot(fig)\n",
        "\n",
        "# Exibir os dados filtrados\n",
        "st.dataframe(filtered_data)"
      ],
      "metadata": {
        "colab": {
          "base_uri": "https://localhost:8080/"
        },
        "id": "ajmoltmYfAgf",
        "outputId": "3f147029-4807-4c5a-c25b-ad3e17f66785"
      },
      "execution_count": 11,
      "outputs": [
        {
          "output_type": "stream",
          "name": "stderr",
          "text": [
            "2024-10-13 22:20:34.421 Thread 'MainThread': missing ScriptRunContext! This warning can be ignored when running in bare mode.\n",
            "2024-10-13 22:20:35.009 Thread 'MainThread': missing ScriptRunContext! This warning can be ignored when running in bare mode.\n",
            "2024-10-13 22:20:35.011 Thread 'MainThread': missing ScriptRunContext! This warning can be ignored when running in bare mode.\n",
            "2024-10-13 22:20:35.071 Thread 'MainThread': missing ScriptRunContext! This warning can be ignored when running in bare mode.\n",
            "2024-10-13 22:20:35.072 Thread 'MainThread': missing ScriptRunContext! This warning can be ignored when running in bare mode.\n"
          ]
        },
        {
          "output_type": "execute_result",
          "data": {
            "text/plain": [
              "DeltaGenerator()"
            ]
          },
          "metadata": {},
          "execution_count": 11
        }
      ]
    },
    {
      "cell_type": "code",
      "source": [
        "# Configuração do tema do Seaborn\n",
        "sns.set_theme(style=\"whitegrid\")"
      ],
      "metadata": {
        "id": "D1ZQpoVBvMly"
      },
      "execution_count": 12,
      "outputs": []
    },
    {
      "cell_type": "code",
      "source": [
        "# Layout principal\n",
        "st.image(\"/content/telmarketing_icon.png\", use_column_width=True)"
      ],
      "metadata": {
        "colab": {
          "base_uri": "https://localhost:8080/"
        },
        "id": "SGFOyrvwvOKV",
        "outputId": "d6a34b10-4953-4ef5-b22d-ac33b93c993d"
      },
      "execution_count": 13,
      "outputs": [
        {
          "output_type": "stream",
          "name": "stderr",
          "text": [
            "2024-10-13 22:20:39.852 Thread 'MainThread': missing ScriptRunContext! This warning can be ignored when running in bare mode.\n",
            "2024-10-13 22:20:39.855 Thread 'MainThread': missing ScriptRunContext! This warning can be ignored when running in bare mode.\n",
            "2024-10-13 22:20:39.856 Thread 'MainThread': missing ScriptRunContext! This warning can be ignored when running in bare mode.\n"
          ]
        },
        {
          "output_type": "execute_result",
          "data": {
            "text/plain": [
              "DeltaGenerator()"
            ]
          },
          "metadata": {},
          "execution_count": 13
        }
      ]
    },
    {
      "cell_type": "code",
      "source": [
        "# Formulário para filtros\n",
        "with st.form(\"filter_form\"):\n",
        "    st.header(\"Filtros\")\n",
        "\n",
        "    col1, col2 = st.columns(2)\n",
        "\n",
        "    with col1:\n",
        "        age_range = st.slider(\"Faixa etária\",\n",
        "                              min_value=int(bank_raw['age'].min()),\n",
        "                              max_value=int(bank_raw['age'].max()),\n",
        "                              value=(int(bank_raw['age'].min()), int(bank_raw['age'].max())))\n",
        "\n",
        "        job_options = ['all'] + list(bank_raw['job'].unique())\n",
        "        selected_jobs = st.multiselect(\"Tipo de trabalho\", options=job_options, default=['all'])\n",
        "\n",
        "    with col2:\n",
        "        marital_options = ['all'] + list(bank_raw['marital'].unique())\n",
        "        selected_marital = st.multiselect(\"Estado civil\", options=marital_options, default=['all'])\n",
        "\n",
        "        education_options = ['all'] + list(bank_raw['education'].unique())\n",
        "        selected_education = st.multiselect(\"Nível de educação\", options=education_options, default=['all'])\n",
        "\n",
        "    submit_button = st.form_submit_button(\"Aplicar Filtros\")"
      ],
      "metadata": {
        "colab": {
          "base_uri": "https://localhost:8080/"
        },
        "id": "ksawqk1OvSHb",
        "outputId": "7d0a2184-caab-4a4b-9100-c5eca3e80f31"
      },
      "execution_count": 14,
      "outputs": [
        {
          "output_type": "stream",
          "name": "stderr",
          "text": [
            "2024-10-13 22:20:41.622 Thread 'MainThread': missing ScriptRunContext! This warning can be ignored when running in bare mode.\n",
            "2024-10-13 22:20:41.625 Thread 'MainThread': missing ScriptRunContext! This warning can be ignored when running in bare mode.\n",
            "2024-10-13 22:20:41.627 Thread 'MainThread': missing ScriptRunContext! This warning can be ignored when running in bare mode.\n",
            "2024-10-13 22:20:41.629 Thread 'MainThread': missing ScriptRunContext! This warning can be ignored when running in bare mode.\n",
            "2024-10-13 22:20:41.632 Thread 'MainThread': missing ScriptRunContext! This warning can be ignored when running in bare mode.\n",
            "2024-10-13 22:20:41.635 Thread 'MainThread': missing ScriptRunContext! This warning can be ignored when running in bare mode.\n",
            "2024-10-13 22:20:41.638 Thread 'MainThread': missing ScriptRunContext! This warning can be ignored when running in bare mode.\n",
            "2024-10-13 22:20:41.640 Thread 'MainThread': missing ScriptRunContext! This warning can be ignored when running in bare mode.\n",
            "2024-10-13 22:20:41.642 Thread 'MainThread': missing ScriptRunContext! This warning can be ignored when running in bare mode.\n",
            "2024-10-13 22:20:41.643 Thread 'MainThread': missing ScriptRunContext! This warning can be ignored when running in bare mode.\n",
            "2024-10-13 22:20:41.644 Thread 'MainThread': missing ScriptRunContext! This warning can be ignored when running in bare mode.\n",
            "2024-10-13 22:20:41.647 Thread 'MainThread': missing ScriptRunContext! This warning can be ignored when running in bare mode.\n",
            "2024-10-13 22:20:41.654 Thread 'MainThread': missing ScriptRunContext! This warning can be ignored when running in bare mode.\n",
            "2024-10-13 22:20:41.656 Thread 'MainThread': missing ScriptRunContext! This warning can be ignored when running in bare mode.\n",
            "2024-10-13 22:20:41.658 Thread 'MainThread': missing ScriptRunContext! This warning can be ignored when running in bare mode.\n",
            "2024-10-13 22:20:41.660 Thread 'MainThread': missing ScriptRunContext! This warning can be ignored when running in bare mode.\n",
            "2024-10-13 22:20:41.664 Thread 'MainThread': missing ScriptRunContext! This warning can be ignored when running in bare mode.\n",
            "2024-10-13 22:20:41.670 Thread 'MainThread': missing ScriptRunContext! This warning can be ignored when running in bare mode.\n",
            "2024-10-13 22:20:41.673 Thread 'MainThread': missing ScriptRunContext! This warning can be ignored when running in bare mode.\n",
            "2024-10-13 22:20:41.674 Thread 'MainThread': missing ScriptRunContext! This warning can be ignored when running in bare mode.\n",
            "2024-10-13 22:20:41.678 Thread 'MainThread': missing ScriptRunContext! This warning can be ignored when running in bare mode.\n",
            "2024-10-13 22:20:41.679 Thread 'MainThread': missing ScriptRunContext! This warning can be ignored when running in bare mode.\n",
            "2024-10-13 22:20:41.687 Thread 'MainThread': missing ScriptRunContext! This warning can be ignored when running in bare mode.\n",
            "2024-10-13 22:20:41.689 Thread 'MainThread': missing ScriptRunContext! This warning can be ignored when running in bare mode.\n",
            "2024-10-13 22:20:41.691 Thread 'MainThread': missing ScriptRunContext! This warning can be ignored when running in bare mode.\n",
            "2024-10-13 22:20:41.692 Thread 'MainThread': missing ScriptRunContext! This warning can be ignored when running in bare mode.\n",
            "2024-10-13 22:20:41.694 Thread 'MainThread': missing ScriptRunContext! This warning can be ignored when running in bare mode.\n",
            "2024-10-13 22:20:41.695 Thread 'MainThread': missing ScriptRunContext! This warning can be ignored when running in bare mode.\n",
            "2024-10-13 22:20:41.696 Thread 'MainThread': missing ScriptRunContext! This warning can be ignored when running in bare mode.\n",
            "2024-10-13 22:20:41.698 Thread 'MainThread': missing ScriptRunContext! This warning can be ignored when running in bare mode.\n",
            "2024-10-13 22:20:41.700 Thread 'MainThread': missing ScriptRunContext! This warning can be ignored when running in bare mode.\n",
            "2024-10-13 22:20:41.702 Thread 'MainThread': missing ScriptRunContext! This warning can be ignored when running in bare mode.\n"
          ]
        }
      ]
    },
    {
      "cell_type": "code",
      "source": [
        "# Lógica para filtrar os dados\n",
        "if submit_button:\n",
        "    filtered_data = bank_raw[(bank_raw['age'] >= age_range[0]) & (bank_raw['age'] <= age_range[1])]\n",
        "\n",
        "    if 'all' not in selected_jobs:\n",
        "        filtered_data = filtered_data[filtered_data['job'].isin(selected_jobs)]\n",
        "    if 'all' not in selected_marital:\n",
        "        filtered_data = filtered_data[filtered_data['marital'].isin(selected_marital)]\n",
        "    if 'all' not in selected_education:\n",
        "        filtered_data = filtered_data[filtered_data['education'].isin(selected_education)]\n",
        "\n",
        "    # Criar e exibir o gráfico\n",
        "    fig, ax = plt.subplots(figsize=(10, 6))\n",
        "    sns.histplot(data=filtered_data, x='age', kde=True, ax=ax)\n",
        "    ax.set_title(\"Distribuição de Idade\")\n",
        "    st.pyplot(fig)\n",
        "\n",
        "    # Exibir os dados filtrados\n",
        "    st.dataframe(filtered_data)\n",
        "else:\n",
        "    st.info(\"Por favor, selecione os filtros desejados e clique em 'Aplicar Filtros'.\")"
      ],
      "metadata": {
        "colab": {
          "base_uri": "https://localhost:8080/"
        },
        "id": "gkfaHgRjvVv4",
        "outputId": "04393737-0969-4c5b-a3c7-b5baf7159aa5"
      },
      "execution_count": 15,
      "outputs": [
        {
          "output_type": "stream",
          "name": "stderr",
          "text": [
            "2024-10-13 22:20:44.711 Thread 'MainThread': missing ScriptRunContext! This warning can be ignored when running in bare mode.\n",
            "2024-10-13 22:20:44.714 Thread 'MainThread': missing ScriptRunContext! This warning can be ignored when running in bare mode.\n"
          ]
        }
      ]
    },
    {
      "cell_type": "code",
      "source": [
        "pip install --upgrade streamlit"
      ],
      "metadata": {
        "colab": {
          "base_uri": "https://localhost:8080/"
        },
        "id": "L7cKgDuzvpRN",
        "outputId": "8911c372-6c20-4843-df7c-1ff7c950c80b"
      },
      "execution_count": null,
      "outputs": [
        {
          "output_type": "stream",
          "name": "stdout",
          "text": [
            "Requirement already satisfied: streamlit in /usr/local/lib/python3.10/dist-packages (1.38.0)\n",
            "Requirement already satisfied: altair<6,>=4.0 in /usr/local/lib/python3.10/dist-packages (from streamlit) (4.2.2)\n",
            "Requirement already satisfied: blinker<2,>=1.0.0 in /usr/lib/python3/dist-packages (from streamlit) (1.4)\n",
            "Requirement already satisfied: cachetools<6,>=4.0 in /usr/local/lib/python3.10/dist-packages (from streamlit) (5.5.0)\n",
            "Requirement already satisfied: click<9,>=7.0 in /usr/local/lib/python3.10/dist-packages (from streamlit) (8.1.7)\n",
            "Requirement already satisfied: numpy<3,>=1.20 in /usr/local/lib/python3.10/dist-packages (from streamlit) (1.26.4)\n",
            "Requirement already satisfied: packaging<25,>=20 in /usr/local/lib/python3.10/dist-packages (from streamlit) (24.1)\n",
            "Requirement already satisfied: pandas<3,>=1.3.0 in /usr/local/lib/python3.10/dist-packages (from streamlit) (2.1.4)\n",
            "Requirement already satisfied: pillow<11,>=7.1.0 in /usr/local/lib/python3.10/dist-packages (from streamlit) (9.4.0)\n",
            "Requirement already satisfied: protobuf<6,>=3.20 in /usr/local/lib/python3.10/dist-packages (from streamlit) (3.20.3)\n",
            "Requirement already satisfied: pyarrow>=7.0 in /usr/local/lib/python3.10/dist-packages (from streamlit) (14.0.2)\n",
            "Requirement already satisfied: requests<3,>=2.27 in /usr/local/lib/python3.10/dist-packages (from streamlit) (2.32.3)\n",
            "Requirement already satisfied: rich<14,>=10.14.0 in /usr/local/lib/python3.10/dist-packages (from streamlit) (13.8.0)\n",
            "Requirement already satisfied: tenacity<9,>=8.1.0 in /usr/local/lib/python3.10/dist-packages (from streamlit) (8.5.0)\n",
            "Requirement already satisfied: toml<2,>=0.10.1 in /usr/local/lib/python3.10/dist-packages (from streamlit) (0.10.2)\n",
            "Requirement already satisfied: typing-extensions<5,>=4.3.0 in /usr/local/lib/python3.10/dist-packages (from streamlit) (4.12.2)\n",
            "Requirement already satisfied: gitpython!=3.1.19,<4,>=3.0.7 in /usr/local/lib/python3.10/dist-packages (from streamlit) (3.1.43)\n",
            "Requirement already satisfied: pydeck<1,>=0.8.0b4 in /usr/local/lib/python3.10/dist-packages (from streamlit) (0.9.1)\n",
            "Requirement already satisfied: tornado<7,>=6.0.3 in /usr/local/lib/python3.10/dist-packages (from streamlit) (6.3.3)\n",
            "Requirement already satisfied: watchdog<5,>=2.1.5 in /usr/local/lib/python3.10/dist-packages (from streamlit) (4.0.2)\n",
            "Requirement already satisfied: entrypoints in /usr/local/lib/python3.10/dist-packages (from altair<6,>=4.0->streamlit) (0.4)\n",
            "Requirement already satisfied: jinja2 in /usr/local/lib/python3.10/dist-packages (from altair<6,>=4.0->streamlit) (3.1.4)\n",
            "Requirement already satisfied: jsonschema>=3.0 in /usr/local/lib/python3.10/dist-packages (from altair<6,>=4.0->streamlit) (4.23.0)\n",
            "Requirement already satisfied: toolz in /usr/local/lib/python3.10/dist-packages (from altair<6,>=4.0->streamlit) (0.12.1)\n",
            "Requirement already satisfied: gitdb<5,>=4.0.1 in /usr/local/lib/python3.10/dist-packages (from gitpython!=3.1.19,<4,>=3.0.7->streamlit) (4.0.11)\n",
            "Requirement already satisfied: python-dateutil>=2.8.2 in /usr/local/lib/python3.10/dist-packages (from pandas<3,>=1.3.0->streamlit) (2.8.2)\n",
            "Requirement already satisfied: pytz>=2020.1 in /usr/local/lib/python3.10/dist-packages (from pandas<3,>=1.3.0->streamlit) (2024.1)\n",
            "Requirement already satisfied: tzdata>=2022.1 in /usr/local/lib/python3.10/dist-packages (from pandas<3,>=1.3.0->streamlit) (2024.1)\n",
            "Requirement already satisfied: charset-normalizer<4,>=2 in /usr/local/lib/python3.10/dist-packages (from requests<3,>=2.27->streamlit) (3.3.2)\n",
            "Requirement already satisfied: idna<4,>=2.5 in /usr/local/lib/python3.10/dist-packages (from requests<3,>=2.27->streamlit) (3.8)\n",
            "Requirement already satisfied: urllib3<3,>=1.21.1 in /usr/local/lib/python3.10/dist-packages (from requests<3,>=2.27->streamlit) (2.0.7)\n",
            "Requirement already satisfied: certifi>=2017.4.17 in /usr/local/lib/python3.10/dist-packages (from requests<3,>=2.27->streamlit) (2024.8.30)\n",
            "Requirement already satisfied: markdown-it-py>=2.2.0 in /usr/local/lib/python3.10/dist-packages (from rich<14,>=10.14.0->streamlit) (3.0.0)\n",
            "Requirement already satisfied: pygments<3.0.0,>=2.13.0 in /usr/local/lib/python3.10/dist-packages (from rich<14,>=10.14.0->streamlit) (2.16.1)\n",
            "Requirement already satisfied: smmap<6,>=3.0.1 in /usr/local/lib/python3.10/dist-packages (from gitdb<5,>=4.0.1->gitpython!=3.1.19,<4,>=3.0.7->streamlit) (5.0.1)\n",
            "Requirement already satisfied: MarkupSafe>=2.0 in /usr/local/lib/python3.10/dist-packages (from jinja2->altair<6,>=4.0->streamlit) (2.1.5)\n",
            "Requirement already satisfied: attrs>=22.2.0 in /usr/local/lib/python3.10/dist-packages (from jsonschema>=3.0->altair<6,>=4.0->streamlit) (24.2.0)\n",
            "Requirement already satisfied: jsonschema-specifications>=2023.03.6 in /usr/local/lib/python3.10/dist-packages (from jsonschema>=3.0->altair<6,>=4.0->streamlit) (2023.12.1)\n",
            "Requirement already satisfied: referencing>=0.28.4 in /usr/local/lib/python3.10/dist-packages (from jsonschema>=3.0->altair<6,>=4.0->streamlit) (0.35.1)\n",
            "Requirement already satisfied: rpds-py>=0.7.1 in /usr/local/lib/python3.10/dist-packages (from jsonschema>=3.0->altair<6,>=4.0->streamlit) (0.20.0)\n",
            "Requirement already satisfied: mdurl~=0.1 in /usr/local/lib/python3.10/dist-packages (from markdown-it-py>=2.2.0->rich<14,>=10.14.0->streamlit) (0.1.2)\n",
            "Requirement already satisfied: six>=1.5 in /usr/local/lib/python3.10/dist-packages (from python-dateutil>=2.8.2->pandas<3,>=1.3.0->streamlit) (1.16.0)\n"
          ]
        }
      ]
    },
    {
      "cell_type": "code",
      "source": [
        "pip install --upgrade matplotlib"
      ],
      "metadata": {
        "colab": {
          "base_uri": "https://localhost:8080/"
        },
        "id": "a18DqwoswHKt",
        "outputId": "4234a009-f779-4c5f-f703-cc03f2a121c4"
      },
      "execution_count": null,
      "outputs": [
        {
          "output_type": "stream",
          "name": "stdout",
          "text": [
            "Requirement already satisfied: matplotlib in /usr/local/lib/python3.10/dist-packages (3.7.1)\n",
            "Collecting matplotlib\n",
            "  Downloading matplotlib-3.9.2-cp310-cp310-manylinux_2_17_x86_64.manylinux2014_x86_64.whl.metadata (11 kB)\n",
            "Requirement already satisfied: contourpy>=1.0.1 in /usr/local/lib/python3.10/dist-packages (from matplotlib) (1.3.0)\n",
            "Requirement already satisfied: cycler>=0.10 in /usr/local/lib/python3.10/dist-packages (from matplotlib) (0.12.1)\n",
            "Requirement already satisfied: fonttools>=4.22.0 in /usr/local/lib/python3.10/dist-packages (from matplotlib) (4.53.1)\n",
            "Requirement already satisfied: kiwisolver>=1.3.1 in /usr/local/lib/python3.10/dist-packages (from matplotlib) (1.4.5)\n",
            "Requirement already satisfied: numpy>=1.23 in /usr/local/lib/python3.10/dist-packages (from matplotlib) (1.26.4)\n",
            "Requirement already satisfied: packaging>=20.0 in /usr/local/lib/python3.10/dist-packages (from matplotlib) (24.1)\n",
            "Requirement already satisfied: pillow>=8 in /usr/local/lib/python3.10/dist-packages (from matplotlib) (9.4.0)\n",
            "Requirement already satisfied: pyparsing>=2.3.1 in /usr/local/lib/python3.10/dist-packages (from matplotlib) (3.1.4)\n",
            "Requirement already satisfied: python-dateutil>=2.7 in /usr/local/lib/python3.10/dist-packages (from matplotlib) (2.8.2)\n",
            "Requirement already satisfied: six>=1.5 in /usr/local/lib/python3.10/dist-packages (from python-dateutil>=2.7->matplotlib) (1.16.0)\n",
            "Downloading matplotlib-3.9.2-cp310-cp310-manylinux_2_17_x86_64.manylinux2014_x86_64.whl (8.3 MB)\n",
            "\u001b[2K   \u001b[90m━━━━━━━━━━━━━━━━━━━━━━━━━━━━━━━━━━━━━━━━\u001b[0m \u001b[32m8.3/8.3 MB\u001b[0m \u001b[31m58.0 MB/s\u001b[0m eta \u001b[36m0:00:00\u001b[0m\n",
            "\u001b[?25hInstalling collected packages: matplotlib\n",
            "  Attempting uninstall: matplotlib\n",
            "    Found existing installation: matplotlib 3.7.1\n",
            "    Uninstalling matplotlib-3.7.1:\n",
            "      Successfully uninstalled matplotlib-3.7.1\n",
            "Successfully installed matplotlib-3.9.2\n"
          ]
        }
      ]
    },
    {
      "cell_type": "code",
      "source": [
        "# Configuração do tema do Seaborn usando cache_resource\n",
        "@st.cache_resource\n",
        "def set_seaborn_theme():\n",
        "    sns.set_theme(style=\"whitegrid\")\n",
        "\n",
        "set_seaborn_theme()\n",
        "\n",
        "# Carregar os dados usando cache_data\n",
        "@st.cache_data\n",
        "def load_data():\n",
        "    return pd.read_csv(\"/content/bank-additional-full.csv\", delimiter=';')\n",
        "\n",
        "bank_raw = load_data()\n"
      ],
      "metadata": {
        "colab": {
          "base_uri": "https://localhost:8080/"
        },
        "id": "g1gXe2HnwOjF",
        "outputId": "0a632203-cdfd-4996-d5ee-24d3da2357db"
      },
      "execution_count": 16,
      "outputs": [
        {
          "output_type": "stream",
          "name": "stderr",
          "text": [
            "2024-10-13 22:20:49.533 Thread 'MainThread': missing ScriptRunContext! This warning can be ignored when running in bare mode.\n",
            "2024-10-13 22:20:49.535 Thread 'MainThread': missing ScriptRunContext! This warning can be ignored when running in bare mode.\n",
            "2024-10-13 22:20:49.537 Thread 'MainThread': missing ScriptRunContext! This warning can be ignored when running in bare mode.\n",
            "2024-10-13 22:20:49.540 Thread 'MainThread': missing ScriptRunContext! This warning can be ignored when running in bare mode.\n",
            "2024-10-13 22:20:49.544 Thread 'MainThread': missing ScriptRunContext! This warning can be ignored when running in bare mode.\n",
            "2024-10-13 22:20:49.546 No runtime found, using MemoryCacheStorageManager\n",
            "2024-10-13 22:20:49.549 Thread 'MainThread': missing ScriptRunContext! This warning can be ignored when running in bare mode.\n",
            "2024-10-13 22:20:49.551 Thread 'MainThread': missing ScriptRunContext! This warning can be ignored when running in bare mode.\n",
            "2024-10-13 22:20:49.553 Thread 'MainThread': missing ScriptRunContext! This warning can be ignored when running in bare mode.\n",
            "2024-10-13 22:20:49.594 Thread 'MainThread': missing ScriptRunContext! This warning can be ignored when running in bare mode.\n",
            "2024-10-13 22:20:49.600 Thread 'MainThread': missing ScriptRunContext! This warning can be ignored when running in bare mode.\n"
          ]
        }
      ]
    },
    {
      "cell_type": "code",
      "source": [
        "# Função para filtrar dados (usando cache_data)\n",
        "@st.cache_data\n",
        "def filter_data(df, age_range, jobs, marital, education):\n",
        "    filtered = df[(df['age'] >= age_range[0]) & (df['age'] <= age_range[1])]\n",
        "\n",
        "    if 'all' not in jobs:\n",
        "        filtered = filtered[filtered['job'].isin(jobs)]\n",
        "    if 'all' not in marital:\n",
        "        filtered = filtered[filtered['marital'].isin(marital)]\n",
        "    if 'all' not in education:\n",
        "        filtered = filtered[filtered['education'].isin(education)]\n",
        "\n",
        "    return filtered"
      ],
      "metadata": {
        "colab": {
          "base_uri": "https://localhost:8080/"
        },
        "id": "gCsE5isMwpAM",
        "outputId": "7996fc2b-ca7a-484d-ccda-93b86639ecdb"
      },
      "execution_count": 17,
      "outputs": [
        {
          "output_type": "stream",
          "name": "stderr",
          "text": [
            "2024-10-13 22:20:51.885 No runtime found, using MemoryCacheStorageManager\n"
          ]
        }
      ]
    },
    {
      "cell_type": "code",
      "source": [
        "# Formulário para filtros\n",
        "with st.form(\"filter_form\"):\n",
        "    st.header(\"Filtros\")\n",
        "\n",
        "    col1, col2 = st.columns(2)\n",
        "\n",
        "    with col1:\n",
        "        age_range = st.slider(\"Faixa etária\",\n",
        "                              min_value=int(bank_raw['age'].min()),\n",
        "                              max_value=int(bank_raw['age'].max()),\n",
        "                              value=(int(bank_raw['age'].min()), int(bank_raw['age'].max())))\n",
        "\n",
        "        job_options = ['all'] + list(bank_raw['job'].unique())\n",
        "        selected_jobs = st.multiselect(\"Tipo de trabalho\", options=job_options, default=['all'])\n",
        "\n",
        "    with col2:\n",
        "        marital_options = ['all'] + list(bank_raw['marital'].unique())\n",
        "        selected_marital = st.multiselect(\"Estado civil\", options=marital_options, default=['all'])\n",
        "\n",
        "        education_options = ['all'] + list(bank_raw['education'].unique())\n",
        "        selected_education = st.multiselect(\"Nível de educação\", options=education_options, default=['all'])\n",
        "\n",
        "    submit_button = st.form_submit_button(\"Aplicar Filtros\")\n",
        "\n",
        "# Lógica para filtrar os dados e criar o gráfico\n",
        "if submit_button:\n",
        "    filtered_data = filter_data(bank_raw, age_range, selected_jobs, selected_marital, selected_education)\n",
        "\n",
        "    # Criar e exibir o gráfico\n",
        "    fig, ax = plt.subplots(figsize=(10, 6))\n",
        "    sns.histplot(data=filtered_data, x='age', kde=True, ax=ax)\n",
        "    ax.set_title(\"Distribuição de Idade\")\n",
        "    st.pyplot(fig)\n",
        "\n",
        "    # Exibir os dados filtrados\n",
        "    st.dataframe(filtered_data)\n",
        "else:\n",
        "    st.info(\"Por favor, selecione os filtros desejados e clique em 'Aplicar Filtros'.\")"
      ],
      "metadata": {
        "colab": {
          "base_uri": "https://localhost:8080/"
        },
        "id": "G_nP4fddwtVD",
        "outputId": "b432efb2-91dd-4d93-e0f2-2a2b8bc076e8"
      },
      "execution_count": 18,
      "outputs": [
        {
          "output_type": "stream",
          "name": "stderr",
          "text": [
            "2024-10-13 22:20:57.724 Thread 'MainThread': missing ScriptRunContext! This warning can be ignored when running in bare mode.\n",
            "2024-10-13 22:20:57.728 Thread 'MainThread': missing ScriptRunContext! This warning can be ignored when running in bare mode.\n",
            "2024-10-13 22:20:57.730 Thread 'MainThread': missing ScriptRunContext! This warning can be ignored when running in bare mode.\n",
            "2024-10-13 22:20:57.732 Thread 'MainThread': missing ScriptRunContext! This warning can be ignored when running in bare mode.\n",
            "2024-10-13 22:20:57.734 Thread 'MainThread': missing ScriptRunContext! This warning can be ignored when running in bare mode.\n",
            "2024-10-13 22:20:57.735 Thread 'MainThread': missing ScriptRunContext! This warning can be ignored when running in bare mode.\n",
            "2024-10-13 22:20:57.737 Thread 'MainThread': missing ScriptRunContext! This warning can be ignored when running in bare mode.\n",
            "2024-10-13 22:20:57.739 Thread 'MainThread': missing ScriptRunContext! This warning can be ignored when running in bare mode.\n",
            "2024-10-13 22:20:57.741 Thread 'MainThread': missing ScriptRunContext! This warning can be ignored when running in bare mode.\n",
            "2024-10-13 22:20:57.746 Thread 'MainThread': missing ScriptRunContext! This warning can be ignored when running in bare mode.\n",
            "2024-10-13 22:20:57.748 Thread 'MainThread': missing ScriptRunContext! This warning can be ignored when running in bare mode.\n",
            "2024-10-13 22:20:57.750 Thread 'MainThread': missing ScriptRunContext! This warning can be ignored when running in bare mode.\n",
            "2024-10-13 22:20:57.755 Thread 'MainThread': missing ScriptRunContext! This warning can be ignored when running in bare mode.\n",
            "2024-10-13 22:20:57.758 Thread 'MainThread': missing ScriptRunContext! This warning can be ignored when running in bare mode.\n",
            "2024-10-13 22:20:57.760 Thread 'MainThread': missing ScriptRunContext! This warning can be ignored when running in bare mode.\n",
            "2024-10-13 22:20:57.763 Thread 'MainThread': missing ScriptRunContext! This warning can be ignored when running in bare mode.\n",
            "2024-10-13 22:20:57.764 Thread 'MainThread': missing ScriptRunContext! This warning can be ignored when running in bare mode.\n",
            "2024-10-13 22:20:57.771 Thread 'MainThread': missing ScriptRunContext! This warning can be ignored when running in bare mode.\n",
            "2024-10-13 22:20:57.773 Thread 'MainThread': missing ScriptRunContext! This warning can be ignored when running in bare mode.\n",
            "2024-10-13 22:20:57.776 Thread 'MainThread': missing ScriptRunContext! This warning can be ignored when running in bare mode.\n",
            "2024-10-13 22:20:57.777 Thread 'MainThread': missing ScriptRunContext! This warning can be ignored when running in bare mode.\n",
            "2024-10-13 22:20:57.778 Thread 'MainThread': missing ScriptRunContext! This warning can be ignored when running in bare mode.\n",
            "2024-10-13 22:20:57.783 Thread 'MainThread': missing ScriptRunContext! This warning can be ignored when running in bare mode.\n",
            "2024-10-13 22:20:57.788 Thread 'MainThread': missing ScriptRunContext! This warning can be ignored when running in bare mode.\n",
            "2024-10-13 22:20:57.789 Thread 'MainThread': missing ScriptRunContext! This warning can be ignored when running in bare mode.\n",
            "2024-10-13 22:20:57.790 Thread 'MainThread': missing ScriptRunContext! This warning can be ignored when running in bare mode.\n",
            "2024-10-13 22:20:57.791 Thread 'MainThread': missing ScriptRunContext! This warning can be ignored when running in bare mode.\n",
            "2024-10-13 22:20:57.792 Thread 'MainThread': missing ScriptRunContext! This warning can be ignored when running in bare mode.\n",
            "2024-10-13 22:20:57.793 Thread 'MainThread': missing ScriptRunContext! This warning can be ignored when running in bare mode.\n",
            "2024-10-13 22:20:57.794 Thread 'MainThread': missing ScriptRunContext! This warning can be ignored when running in bare mode.\n",
            "2024-10-13 22:20:57.796 Thread 'MainThread': missing ScriptRunContext! This warning can be ignored when running in bare mode.\n",
            "2024-10-13 22:20:57.797 Thread 'MainThread': missing ScriptRunContext! This warning can be ignored when running in bare mode.\n",
            "2024-10-13 22:20:57.799 Thread 'MainThread': missing ScriptRunContext! This warning can be ignored when running in bare mode.\n",
            "2024-10-13 22:20:57.800 Thread 'MainThread': missing ScriptRunContext! This warning can be ignored when running in bare mode.\n"
          ]
        }
      ]
    },
    {
      "cell_type": "code",
      "source": [
        "# Configuração do tema do Seaborn\n",
        "@st.cache_resource\n",
        "def set_seaborn_theme():\n",
        "    sns.set_theme(style=\"whitegrid\")\n",
        "\n",
        "set_seaborn_theme()\n",
        "\n",
        "# Função para carregar dados\n",
        "@st.cache_data\n",
        "def load_data(file):\n",
        "    return pd.read_csv(file, delimiter=';')"
      ],
      "metadata": {
        "colab": {
          "base_uri": "https://localhost:8080/"
        },
        "id": "U8XJ8pHiw6WT",
        "outputId": "1ba0cd7d-dbce-4590-8699-77ce96acbf43"
      },
      "execution_count": 19,
      "outputs": [
        {
          "output_type": "stream",
          "name": "stderr",
          "text": [
            "2024-10-13 22:21:01.017 Thread 'MainThread': missing ScriptRunContext! This warning can be ignored when running in bare mode.\n",
            "2024-10-13 22:21:01.019 Thread 'MainThread': missing ScriptRunContext! This warning can be ignored when running in bare mode.\n",
            "2024-10-13 22:21:01.021 Thread 'MainThread': missing ScriptRunContext! This warning can be ignored when running in bare mode.\n",
            "2024-10-13 22:21:01.024 Thread 'MainThread': missing ScriptRunContext! This warning can be ignored when running in bare mode.\n",
            "2024-10-13 22:21:01.026 Thread 'MainThread': missing ScriptRunContext! This warning can be ignored when running in bare mode.\n",
            "2024-10-13 22:21:01.028 No runtime found, using MemoryCacheStorageManager\n"
          ]
        }
      ]
    },
    {
      "cell_type": "code",
      "source": [
        "# Função para filtrar dados\n",
        "@st.cache_data\n",
        "def filter_data(df, age_range, jobs, marital, education):\n",
        "    filtered = df[(df['age'] >= age_range[0]) & (df['age'] <= age_range[1])]\n",
        "\n",
        "    if 'all' not in jobs:\n",
        "        filtered = filtered[filtered['job'].isin(jobs)]\n",
        "    if 'all' not in marital:\n",
        "        filtered = filtered[filtered['marital'].isin(marital)]\n",
        "    if 'all' not in education:\n",
        "        filtered = filtered[filtered['education'].isin(education)]\n",
        "\n",
        "    return filtered"
      ],
      "metadata": {
        "colab": {
          "base_uri": "https://localhost:8080/"
        },
        "id": "4VVHKaWTxarI",
        "outputId": "fb8bd7e1-da64-41a2-d6ff-994e43aeaa2a"
      },
      "execution_count": 20,
      "outputs": [
        {
          "output_type": "stream",
          "name": "stderr",
          "text": [
            "2024-10-13 22:21:02.967 No runtime found, using MemoryCacheStorageManager\n"
          ]
        }
      ]
    },
    {
      "cell_type": "code",
      "source": [
        "# Layout principal\n",
        "st.title(\"Análise de Dados Bancários\")\n",
        "\n",
        "# File uploader\n",
        "uploaded_file = st.file_uploader(\"/content/bank-additional-full-40.csv\", type=\"csv\")"
      ],
      "metadata": {
        "colab": {
          "base_uri": "https://localhost:8080/"
        },
        "id": "JW8hCEVHxdZJ",
        "outputId": "90ad33e3-c73e-4a9b-8510-63f491c13760"
      },
      "execution_count": 21,
      "outputs": [
        {
          "output_type": "stream",
          "name": "stderr",
          "text": [
            "2024-10-13 22:21:04.800 Thread 'MainThread': missing ScriptRunContext! This warning can be ignored when running in bare mode.\n",
            "2024-10-13 22:21:04.802 Thread 'MainThread': missing ScriptRunContext! This warning can be ignored when running in bare mode.\n",
            "2024-10-13 22:21:04.805 Thread 'MainThread': missing ScriptRunContext! This warning can be ignored when running in bare mode.\n",
            "2024-10-13 22:21:04.807 Thread 'MainThread': missing ScriptRunContext! This warning can be ignored when running in bare mode.\n",
            "2024-10-13 22:21:04.808 Thread 'MainThread': missing ScriptRunContext! This warning can be ignored when running in bare mode.\n",
            "2024-10-13 22:21:04.810 Thread 'MainThread': missing ScriptRunContext! This warning can be ignored when running in bare mode.\n",
            "2024-10-13 22:21:04.811 Thread 'MainThread': missing ScriptRunContext! This warning can be ignored when running in bare mode.\n"
          ]
        }
      ]
    },
    {
      "cell_type": "code",
      "source": [
        "if uploaded_file is not None:\n",
        "    # Carregar dados do arquivo enviado\n",
        "    bank_raw = load_data(uploaded_file)\n",
        "\n",
        "    # Formulário para filtros\n",
        "    with st.form(\"filter_form\"):\n",
        "        st.header(\"Filtros\")\n",
        "\n",
        "        col1, col2 = st.columns(2)\n",
        "\n",
        "        with col1:\n",
        "            age_range = st.slider(\"Faixa etária\",\n",
        "                                  min_value=int(bank_raw['age'].min()),\n",
        "                                  max_value=int(bank_raw['age'].max()),\n",
        "                                  value=(int(bank_raw['age'].min()), int(bank_raw['age'].max())))\n",
        "\n",
        "            job_options = ['all'] + list(bank_raw['job'].unique())\n",
        "            selected_jobs = st.multiselect(\"Tipo de trabalho\", options=job_options, default=['all'])\n",
        "\n",
        "        with col2:\n",
        "            marital_options = ['all'] + list(bank_raw['marital'].unique())\n",
        "            selected_marital = st.multiselect(\"Estado civil\", options=marital_options, default=['all'])\n",
        "\n",
        "            education_options = ['all'] + list(bank_raw['education'].unique())\n",
        "            selected_education = st.multiselect(\"Nível de educação\", options=education_options, default=['all'])\n",
        "\n",
        "        submit_button = st.form_submit_button(\"Aplicar Filtros\")\n"
      ],
      "metadata": {
        "id": "kuWgQXq0xgpI"
      },
      "execution_count": 22,
      "outputs": []
    },
    {
      "cell_type": "code",
      "source": [
        " # Lógica para filtrar os dados e criar o gráfico\n",
        "if submit_button:\n",
        "    filtered_data = filter_data(bank_raw, age_range, selected_jobs, selected_marital, selected_education)\n",
        "\n",
        " # Criar e exibir o gráfico\n",
        "    fig, ax = plt.subplots(figsize=(10, 6))\n",
        "    sns.histplot(data=filtered_data, x='age', kde=True, ax=ax)\n",
        "    ax.set_title(\"Distribuição de Idade\")\n",
        "    st.pyplot(fig)\n",
        "\n",
        " # Exibir os dados filtrados\n",
        "    st.dataframe(filtered_data)\n",
        "else:\n",
        "    st.info(\"Por favor, selecione os filtros desejados e clique em 'Aplicar Filtros'.\")"
      ],
      "metadata": {
        "colab": {
          "base_uri": "https://localhost:8080/"
        },
        "id": "nX9ITap6zQ7q",
        "outputId": "171d325c-b5e2-4ad4-8088-1eeb28c64d67"
      },
      "execution_count": 23,
      "outputs": [
        {
          "output_type": "stream",
          "name": "stderr",
          "text": [
            "2024-10-13 22:21:08.838 Thread 'MainThread': missing ScriptRunContext! This warning can be ignored when running in bare mode.\n",
            "2024-10-13 22:21:08.840 Thread 'MainThread': missing ScriptRunContext! This warning can be ignored when running in bare mode.\n"
          ]
        }
      ]
    },
    {
      "cell_type": "code",
      "source": [
        "# Função para filtrar dados\n",
        "@st.cache_data\n",
        "def filter_data(df, age_range, jobs, marital, education):\n",
        "    filtered = df[(df['age'] >= age_range[0]) & (df['age'] <= age_range[1])]\n",
        "\n",
        "    if 'all' not in jobs:\n",
        "        filtered = filtered[filtered['job'].isin(jobs)]\n",
        "    if 'all' not in marital:\n",
        "        filtered = filtered[filtered['marital'].isin(marital)]\n",
        "    if 'all' not in education:\n",
        "        filtered = filtered[filtered['education'].isin(education)]\n",
        "\n",
        "    return filtered"
      ],
      "metadata": {
        "id": "L0KlhAix1KlS",
        "colab": {
          "base_uri": "https://localhost:8080/"
        },
        "outputId": "26fda824-1f12-4700-a658-6949ad5dcfdc"
      },
      "execution_count": 24,
      "outputs": [
        {
          "output_type": "stream",
          "name": "stderr",
          "text": [
            "2024-10-13 22:21:10.741 No runtime found, using MemoryCacheStorageManager\n"
          ]
        }
      ]
    },
    {
      "cell_type": "code",
      "source": [
        "# Função para converter dataframe para CSV\n",
        "@st.cache_data\n",
        "def convert_df_to_csv(df):\n",
        "    return df.to_csv(index=False).encode('utf-8')\n",
        "\n",
        "# Layout principal\n",
        "st.title(\"Análise de Dados Bancários\")\n",
        "\n",
        "# File uploader\n",
        "uploaded_file = st.file_uploader(\"Escolha um arquivo CSV\", type=\"csv\")\n",
        "\n",
        "if uploaded_file is not None:\n",
        "    # Carregar dados do arquivo enviado\n",
        "    bank_raw = load_data(uploaded_file)\n",
        "\n",
        "    # Formulário para filtros\n",
        "    with st.form(\"filter_form\"):\n",
        "        st.header(\"Filtros\")\n",
        "\n",
        "        col1, col2 = st.columns(2)\n",
        "\n",
        "        with col1:\n",
        "            age_range = st.slider(\"Faixa etária\",\n",
        "                                  min_value=int(bank_raw['age'].min()),\n",
        "                                  max_value=int(bank_raw['age'].max()),\n",
        "                                  value=(int(bank_raw['age'].min()), int(bank_raw['age'].max())))\n",
        "\n",
        "            job_options = ['all'] + list(bank_raw['job'].unique())\n",
        "            selected_jobs = st.multiselect(\"Tipo de trabalho\", options=job_options, default=['all'])\n",
        "\n",
        "        with col2:\n",
        "            marital_options = ['all'] + list(bank_raw['marital'].unique())\n",
        "            selected_marital = st.multiselect(\"Estado civil\", options=marital_options, default=['all'])\n",
        "\n",
        "            education_options = ['all'] + list(bank_raw['education'].unique())\n",
        "            selected_education = st.multiselect(\"Nível de educação\", options=education_options, default=['all'])\n",
        "\n",
        "        submit_button = st.form_submit_button(\"Aplicar Filtros\")"
      ],
      "metadata": {
        "colab": {
          "base_uri": "https://localhost:8080/"
        },
        "id": "fWNXIx0U1vKY",
        "outputId": "355edd1f-5100-4d41-c02c-c1e4e45989cd"
      },
      "execution_count": 25,
      "outputs": [
        {
          "output_type": "stream",
          "name": "stderr",
          "text": [
            "2024-10-13 22:21:13.145 No runtime found, using MemoryCacheStorageManager\n",
            "2024-10-13 22:21:13.149 Thread 'MainThread': missing ScriptRunContext! This warning can be ignored when running in bare mode.\n",
            "2024-10-13 22:21:13.152 Thread 'MainThread': missing ScriptRunContext! This warning can be ignored when running in bare mode.\n",
            "2024-10-13 22:21:13.153 Thread 'MainThread': missing ScriptRunContext! This warning can be ignored when running in bare mode.\n",
            "2024-10-13 22:21:13.154 Thread 'MainThread': missing ScriptRunContext! This warning can be ignored when running in bare mode.\n",
            "2024-10-13 22:21:13.156 Thread 'MainThread': missing ScriptRunContext! This warning can be ignored when running in bare mode.\n",
            "2024-10-13 22:21:13.157 Thread 'MainThread': missing ScriptRunContext! This warning can be ignored when running in bare mode.\n",
            "2024-10-13 22:21:13.158 Thread 'MainThread': missing ScriptRunContext! This warning can be ignored when running in bare mode.\n"
          ]
        }
      ]
    },
    {
      "cell_type": "code",
      "source": [
        "# Lógica para filtrar os dados e criar o gráfico\n",
        "if submit_button:\n",
        "        filtered_data = filter_data(bank_raw, age_range, selected_jobs, selected_marital, selected_education)\n",
        "\n",
        "        # Criar e exibir o gráfico\n",
        "        fig, ax = plt.subplots(figsize=(10, 6))\n",
        "        sns.histplot(data=filtered_data, x='age', kde=True, ax=ax)\n",
        "        ax.set_title(\"Distribuição de Idade\")\n",
        "        st.pyplot(fig)\n",
        "\n",
        "        # Exibir os dados filtrados\n",
        "        st.dataframe(filtered_data)\n",
        "\n",
        "        # Botão de download para os dados filtrados\n",
        "        csv = convert_df_to_csv(filtered_data)\n",
        "        st.download_button(\n",
        "            label=\"Download dos dados filtrados\",\n",
        "            data=csv,\n",
        "            file_name=\"dados_filtrados.csv\",\n",
        "            mime=\"text/csv\",\n",
        "        )\n",
        "else:\n",
        "    st.info(\"Por favor, selecione os filtros desejados e clique em 'Aplicar Filtros'.\")"
      ],
      "metadata": {
        "colab": {
          "base_uri": "https://localhost:8080/"
        },
        "id": "_9PGxFjb3IOg",
        "outputId": "d8fae60a-98a6-41fc-e3b1-affee4aacee9"
      },
      "execution_count": 26,
      "outputs": [
        {
          "output_type": "stream",
          "name": "stderr",
          "text": [
            "2024-10-13 22:21:15.687 Thread 'MainThread': missing ScriptRunContext! This warning can be ignored when running in bare mode.\n",
            "2024-10-13 22:21:15.690 Thread 'MainThread': missing ScriptRunContext! This warning can be ignored when running in bare mode.\n"
          ]
        }
      ]
    },
    {
      "cell_type": "code",
      "source": [
        "if uploaded_file is not None:\n",
        "    # Carregar dados do arquivo enviado\n",
        "    bank_raw = load_data(uploaded_file)\n",
        "\n",
        "    # Formulário para filtros\n",
        "    with st.form(\"filter_form\"):\n",
        "        st.header(\"Filtros\")\n",
        "\n",
        "        col1, col2 = st.columns(2)\n",
        "\n",
        "        with col1:\n",
        "            age_range = st.slider(\"Faixa etária\",\n",
        "                                  min_value=int(bank_raw['age'].min()),\n",
        "                                  max_value=int(bank_raw['age'].max()),\n",
        "                                  value=(int(bank_raw['age'].min()), int(bank_raw['age'].max())))\n",
        "\n",
        "            job_options = ['all'] + list(bank_raw['job'].unique())\n",
        "            selected_jobs = st.multiselect(\"Tipo de trabalho\", options=job_options, default=['all'])\n",
        "\n",
        "        with col2:\n",
        "            marital_options = ['all'] + list(bank_raw['marital'].unique())\n",
        "            selected_marital = st.multiselect(\"Estado civil\", options=marital_options, default=['all'])\n",
        "\n",
        "            education_options = ['all'] + list(bank_raw['education'].unique())\n",
        "            selected_education = st.multiselect(\"Nível de educação\", options=education_options, default=['all'])"
      ],
      "metadata": {
        "id": "AX9FuJ6L4R-M"
      },
      "execution_count": 27,
      "outputs": []
    },
    {
      "cell_type": "code",
      "source": [
        "# Radio button para escolher a variável do gráfico\n",
        "plot_variable = st.radio(\n",
        "            \"Escolha a variável para visualizar:\",\n",
        "            ('age', 'balance', 'duration', 'campaign')\n",
        "        )\n",
        "\n",
        "submit_button = st.form_submit_button(\"Aplicar Filtros\")"
      ],
      "metadata": {
        "colab": {
          "base_uri": "https://localhost:8080/"
        },
        "id": "5pAPcmDZ4dvo",
        "outputId": "d151d56a-6c9a-4df2-a7d4-841de94b5aaf"
      },
      "execution_count": 28,
      "outputs": [
        {
          "output_type": "stream",
          "name": "stderr",
          "text": [
            "2024-10-13 22:21:19.889 Thread 'MainThread': missing ScriptRunContext! This warning can be ignored when running in bare mode.\n",
            "2024-10-13 22:21:19.891 Thread 'MainThread': missing ScriptRunContext! This warning can be ignored when running in bare mode.\n",
            "2024-10-13 22:21:19.893 Thread 'MainThread': missing ScriptRunContext! This warning can be ignored when running in bare mode.\n",
            "2024-10-13 22:21:19.894 Thread 'MainThread': missing ScriptRunContext! This warning can be ignored when running in bare mode.\n",
            "2024-10-13 22:21:19.898 Session state does not function when running a script without `streamlit run`\n",
            "2024-10-13 22:21:19.900 Thread 'MainThread': missing ScriptRunContext! This warning can be ignored when running in bare mode.\n",
            "2024-10-13 22:21:19.902 Thread 'MainThread': missing ScriptRunContext! This warning can be ignored when running in bare mode.\n",
            "2024-10-13 22:21:19.904 Thread 'MainThread': missing ScriptRunContext! This warning can be ignored when running in bare mode.\n",
            "2024-10-13 22:21:19.907 Thread 'MainThread': missing ScriptRunContext! This warning can be ignored when running in bare mode.\n",
            "2024-10-13 22:21:19.910 Thread 'MainThread': missing ScriptRunContext! This warning can be ignored when running in bare mode.\n",
            "2024-10-13 22:21:19.912 Thread 'MainThread': missing ScriptRunContext! This warning can be ignored when running in bare mode.\n",
            "2024-10-13 22:21:19.913 Thread 'MainThread': missing ScriptRunContext! This warning can be ignored when running in bare mode.\n"
          ]
        }
      ]
    },
    {
      "cell_type": "code",
      "source": [
        "# Lógica para filtrar os dados e criar o gráfico\n",
        "if submit_button:\n",
        "        filtered_data = filter_data(bank_raw, age_range, selected_jobs, selected_marital, selected_education)\n",
        "\n",
        "        # Criar e exibir o gráfico\n",
        "        fig, ax = plt.subplots(figsize=(10, 6))\n",
        "        sns.histplot(data=filtered_data, x=plot_variable, kde=True, ax=ax)\n",
        "        ax.set_title(f\"Distribuição de {plot_variable}\")\n",
        "        st.pyplot(fig)\n",
        "\n",
        "        # Exibir os dados filtrados\n",
        "        st.dataframe(filtered_data)\n",
        "\n",
        "        # Botão de download para os dados filtrados\n",
        "        csv = convert_df_to_csv(filtered_data)\n",
        "        st.download_button(\n",
        "            label=\"Download dos dados filtrados\",\n",
        "            data=csv,\n",
        "            file_name=\"dados_filtrados.csv\",\n",
        "            mime=\"text/csv\",\n",
        "        )\n",
        "else:\n",
        "        st.info(\"Por favor, selecione os filtros desejados e clique em 'Aplicar Filtros'.\")"
      ],
      "metadata": {
        "colab": {
          "base_uri": "https://localhost:8080/"
        },
        "id": "jtBcPqAW4sXa",
        "outputId": "e0d0013e-4577-47ff-e56e-7d3f3506f717"
      },
      "execution_count": 29,
      "outputs": [
        {
          "output_type": "stream",
          "name": "stderr",
          "text": [
            "2024-10-13 22:21:22.023 Thread 'MainThread': missing ScriptRunContext! This warning can be ignored when running in bare mode.\n",
            "2024-10-13 22:21:22.027 Thread 'MainThread': missing ScriptRunContext! This warning can be ignored when running in bare mode.\n"
          ]
        }
      ]
    }
  ]
}